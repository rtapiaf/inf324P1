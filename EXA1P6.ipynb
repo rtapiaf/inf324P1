{
 "cells": [
  {
   "cell_type": "markdown",
   "metadata": {},
   "source": [
    "Adicionar dos estudiantes a la base de datos Postgres"
   ]
  },
  {
   "cell_type": "markdown",
   "metadata": {},
   "source": [
    "importamos la libreria"
   ]
  },
  {
   "cell_type": "code",
   "execution_count": 1,
   "metadata": {},
   "outputs": [],
   "source": [
    "import psycopg2 as pc"
   ]
  },
  {
   "cell_type": "markdown",
   "metadata": {},
   "source": [
    "realizamos la conexion"
   ]
  },
  {
   "cell_type": "code",
   "execution_count": 2,
   "metadata": {},
   "outputs": [],
   "source": [
    "conexion = pc.connect(host=\"127.0.0.1\",\n",
    "                      port=\"5432\",\n",
    "                      user=\"postgres\",\n",
    "                      password=\"123456\",                      \n",
    "                      dbname=\"academico324\")"
   ]
  },
  {
   "cell_type": "markdown",
   "metadata": {},
   "source": [
    "abrimos un cursor para ver la base de datos"
   ]
  },
  {
   "cell_type": "code",
   "execution_count": 3,
   "metadata": {},
   "outputs": [],
   "source": [
    "cursor = conexion.cursor()\n",
    "sql=\"SELECT * FROM alumno;\"\n",
    "cursor.execute(sql)\n",
    "all_values = cursor.fetchall()\n",
    "conexion.commit()\n",
    "cursor.close()"
   ]
  },
  {
   "cell_type": "markdown",
   "metadata": {},
   "source": [
    "imprimimos la consulta"
   ]
  },
  {
   "cell_type": "code",
   "execution_count": 4,
   "metadata": {},
   "outputs": [
    {
     "name": "stdout",
     "output_type": "stream",
     "text": [
      "Contenido:  [('12', 'moyo', 'silva', '02'), ('13', 'maria', 'choque', '01'), ('14', 'juanes', 'colombiano', '02'), ('20', 'andres', 'rojas', '04'), ('21', 'natalia', 'campos', '06')]\n"
     ]
    }
   ],
   "source": [
    "print('Contenido: ',all_values)"
   ]
  },
  {
   "cell_type": "markdown",
   "metadata": {},
   "source": [
    "Agregamos el primer estudiante"
   ]
  },
  {
   "cell_type": "code",
   "execution_count": 5,
   "metadata": {},
   "outputs": [],
   "source": [
    "cursor = conexion.cursor()\n",
    "sql=\"insert into alumno values(30,'leonel','messi','08');\"\n",
    "cursor.execute(sql)\n",
    "conexion.commit()\n",
    "cursor.close()"
   ]
  },
  {
   "cell_type": "markdown",
   "metadata": {},
   "source": [
    "Agregamos el segundo estudiante"
   ]
  },
  {
   "cell_type": "code",
   "execution_count": 6,
   "metadata": {},
   "outputs": [],
   "source": [
    "cursor = conexion.cursor()\n",
    "sql=\"insert into alumno values(31,'denis','mendieta','05');\"\n",
    "cursor.execute(sql)\n",
    "conexion.commit()\n",
    "cursor.close()"
   ]
  },
  {
   "cell_type": "markdown",
   "metadata": {},
   "source": [
    "realizmos la consulta de seleccion"
   ]
  },
  {
   "cell_type": "code",
   "execution_count": 7,
   "metadata": {},
   "outputs": [],
   "source": [
    "cursor = conexion.cursor()\n",
    "sql=\"SELECT * FROM alumno;\"\n",
    "cursor.execute(sql)\n",
    "all_values = cursor.fetchall()\n",
    "conexion.commit()\n",
    "cursor.close()"
   ]
  },
  {
   "cell_type": "markdown",
   "metadata": {},
   "source": [
    "imprimimos el contenido de la base de datos con los estudiantes adicionados"
   ]
  },
  {
   "cell_type": "code",
   "execution_count": 8,
   "metadata": {},
   "outputs": [
    {
     "name": "stdout",
     "output_type": "stream",
     "text": [
      "Contenido:  [('12', 'moyo', 'silva', '02'), ('13', 'maria', 'choque', '01'), ('14', 'juanes', 'colombiano', '02'), ('20', 'andres', 'rojas', '04'), ('21', 'natalia', 'campos', '06'), ('30', 'leonel', 'messi', '08'), ('31', 'denis', 'mendieta', '05')]\n"
     ]
    }
   ],
   "source": [
    "print('Contenido: ',all_values)"
   ]
  },
  {
   "cell_type": "code",
   "execution_count": null,
   "metadata": {},
   "outputs": [],
   "source": []
  }
 ],
 "metadata": {
  "kernelspec": {
   "display_name": "Python 3",
   "language": "python",
   "name": "python3"
  },
  "language_info": {
   "codemirror_mode": {
    "name": "ipython",
    "version": 3
   },
   "file_extension": ".py",
   "mimetype": "text/x-python",
   "name": "python",
   "nbconvert_exporter": "python",
   "pygments_lexer": "ipython3",
   "version": "3.7.1"
  }
 },
 "nbformat": 4,
 "nbformat_minor": 2
}
